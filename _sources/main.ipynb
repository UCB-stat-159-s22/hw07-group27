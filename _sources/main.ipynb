{
 "cells": [
  {
   "cell_type": "markdown",
   "id": "a741c666-48eb-4b7f-9db3-9ea5a2cced0a",
   "metadata": {},
   "source": [
    "# What Do Home-Buyer Care About? "
   ]
  },
  {
   "cell_type": "code",
   "execution_count": 24,
   "id": "56640065-4d8e-4f6b-b4e4-abfd1045f6ed",
   "metadata": {},
   "outputs": [],
   "source": [
    "import pandas as pd"
   ]
  },
  {
   "cell_type": "markdown",
   "id": "a79c78e4-785f-4ec7-8084-98c4c8556d02",
   "metadata": {},
   "source": [
    "What do home-buyer care about? This is a question that any home-seller will be interested! The answer for this question will make sure that home-seller puts much more influence in price-negotiation with buyers! We will try to find the answer for this question by exploring dataset about House Price, which has 79 explanatory variables describing every aspect of residential homes in Ames, Iowa. We will mainly use **Random Forest** model to figure out which variables are the most important one to decide the housing price in Ames."
   ]
  },
  {
   "cell_type": "markdown",
   "id": "03b89afe-8937-4ad2-a7a0-2c7881859a59",
   "metadata": {},
   "source": [
    "# Exploratory Data Analysis on the House_Price.csv"
   ]
  },
  {
   "cell_type": "code",
   "execution_count": 4,
   "id": "54a47b69-0c78-4f6f-a212-e5b04b80ca0b",
   "metadata": {},
   "outputs": [
    {
     "data": {
      "text/html": [
       "<div>\n",
       "<style scoped>\n",
       "    .dataframe tbody tr th:only-of-type {\n",
       "        vertical-align: middle;\n",
       "    }\n",
       "\n",
       "    .dataframe tbody tr th {\n",
       "        vertical-align: top;\n",
       "    }\n",
       "\n",
       "    .dataframe thead th {\n",
       "        text-align: right;\n",
       "    }\n",
       "</style>\n",
       "<table border=\"1\" class=\"dataframe\">\n",
       "  <thead>\n",
       "    <tr style=\"text-align: right;\">\n",
       "      <th></th>\n",
       "      <th>Id</th>\n",
       "      <th>MSSubClass</th>\n",
       "      <th>MSZoning</th>\n",
       "      <th>LotFrontage</th>\n",
       "      <th>LotArea</th>\n",
       "      <th>Street</th>\n",
       "      <th>Alley</th>\n",
       "      <th>LotShape</th>\n",
       "      <th>LandContour</th>\n",
       "      <th>Utilities</th>\n",
       "      <th>...</th>\n",
       "      <th>PoolArea</th>\n",
       "      <th>PoolQC</th>\n",
       "      <th>Fence</th>\n",
       "      <th>MiscFeature</th>\n",
       "      <th>MiscVal</th>\n",
       "      <th>MoSold</th>\n",
       "      <th>YrSold</th>\n",
       "      <th>SaleType</th>\n",
       "      <th>SaleCondition</th>\n",
       "      <th>SalePrice</th>\n",
       "    </tr>\n",
       "  </thead>\n",
       "  <tbody>\n",
       "    <tr>\n",
       "      <th>0</th>\n",
       "      <td>1</td>\n",
       "      <td>60</td>\n",
       "      <td>RL</td>\n",
       "      <td>65.0</td>\n",
       "      <td>8450</td>\n",
       "      <td>Pave</td>\n",
       "      <td>NaN</td>\n",
       "      <td>Reg</td>\n",
       "      <td>Lvl</td>\n",
       "      <td>AllPub</td>\n",
       "      <td>...</td>\n",
       "      <td>0</td>\n",
       "      <td>NaN</td>\n",
       "      <td>NaN</td>\n",
       "      <td>NaN</td>\n",
       "      <td>0</td>\n",
       "      <td>2</td>\n",
       "      <td>2008</td>\n",
       "      <td>WD</td>\n",
       "      <td>Normal</td>\n",
       "      <td>208500</td>\n",
       "    </tr>\n",
       "    <tr>\n",
       "      <th>1</th>\n",
       "      <td>2</td>\n",
       "      <td>20</td>\n",
       "      <td>RL</td>\n",
       "      <td>80.0</td>\n",
       "      <td>9600</td>\n",
       "      <td>Pave</td>\n",
       "      <td>NaN</td>\n",
       "      <td>Reg</td>\n",
       "      <td>Lvl</td>\n",
       "      <td>AllPub</td>\n",
       "      <td>...</td>\n",
       "      <td>0</td>\n",
       "      <td>NaN</td>\n",
       "      <td>NaN</td>\n",
       "      <td>NaN</td>\n",
       "      <td>0</td>\n",
       "      <td>5</td>\n",
       "      <td>2007</td>\n",
       "      <td>WD</td>\n",
       "      <td>Normal</td>\n",
       "      <td>181500</td>\n",
       "    </tr>\n",
       "    <tr>\n",
       "      <th>2</th>\n",
       "      <td>3</td>\n",
       "      <td>60</td>\n",
       "      <td>RL</td>\n",
       "      <td>68.0</td>\n",
       "      <td>11250</td>\n",
       "      <td>Pave</td>\n",
       "      <td>NaN</td>\n",
       "      <td>IR1</td>\n",
       "      <td>Lvl</td>\n",
       "      <td>AllPub</td>\n",
       "      <td>...</td>\n",
       "      <td>0</td>\n",
       "      <td>NaN</td>\n",
       "      <td>NaN</td>\n",
       "      <td>NaN</td>\n",
       "      <td>0</td>\n",
       "      <td>9</td>\n",
       "      <td>2008</td>\n",
       "      <td>WD</td>\n",
       "      <td>Normal</td>\n",
       "      <td>223500</td>\n",
       "    </tr>\n",
       "    <tr>\n",
       "      <th>3</th>\n",
       "      <td>4</td>\n",
       "      <td>70</td>\n",
       "      <td>RL</td>\n",
       "      <td>60.0</td>\n",
       "      <td>9550</td>\n",
       "      <td>Pave</td>\n",
       "      <td>NaN</td>\n",
       "      <td>IR1</td>\n",
       "      <td>Lvl</td>\n",
       "      <td>AllPub</td>\n",
       "      <td>...</td>\n",
       "      <td>0</td>\n",
       "      <td>NaN</td>\n",
       "      <td>NaN</td>\n",
       "      <td>NaN</td>\n",
       "      <td>0</td>\n",
       "      <td>2</td>\n",
       "      <td>2006</td>\n",
       "      <td>WD</td>\n",
       "      <td>Abnorml</td>\n",
       "      <td>140000</td>\n",
       "    </tr>\n",
       "    <tr>\n",
       "      <th>4</th>\n",
       "      <td>5</td>\n",
       "      <td>60</td>\n",
       "      <td>RL</td>\n",
       "      <td>84.0</td>\n",
       "      <td>14260</td>\n",
       "      <td>Pave</td>\n",
       "      <td>NaN</td>\n",
       "      <td>IR1</td>\n",
       "      <td>Lvl</td>\n",
       "      <td>AllPub</td>\n",
       "      <td>...</td>\n",
       "      <td>0</td>\n",
       "      <td>NaN</td>\n",
       "      <td>NaN</td>\n",
       "      <td>NaN</td>\n",
       "      <td>0</td>\n",
       "      <td>12</td>\n",
       "      <td>2008</td>\n",
       "      <td>WD</td>\n",
       "      <td>Normal</td>\n",
       "      <td>250000</td>\n",
       "    </tr>\n",
       "  </tbody>\n",
       "</table>\n",
       "<p>5 rows × 81 columns</p>\n",
       "</div>"
      ],
      "text/plain": [
       "   Id  MSSubClass MSZoning  LotFrontage  LotArea Street Alley LotShape  \\\n",
       "0   1          60       RL         65.0     8450   Pave   NaN      Reg   \n",
       "1   2          20       RL         80.0     9600   Pave   NaN      Reg   \n",
       "2   3          60       RL         68.0    11250   Pave   NaN      IR1   \n",
       "3   4          70       RL         60.0     9550   Pave   NaN      IR1   \n",
       "4   5          60       RL         84.0    14260   Pave   NaN      IR1   \n",
       "\n",
       "  LandContour Utilities  ... PoolArea PoolQC Fence MiscFeature MiscVal MoSold  \\\n",
       "0         Lvl    AllPub  ...        0    NaN   NaN         NaN       0      2   \n",
       "1         Lvl    AllPub  ...        0    NaN   NaN         NaN       0      5   \n",
       "2         Lvl    AllPub  ...        0    NaN   NaN         NaN       0      9   \n",
       "3         Lvl    AllPub  ...        0    NaN   NaN         NaN       0      2   \n",
       "4         Lvl    AllPub  ...        0    NaN   NaN         NaN       0     12   \n",
       "\n",
       "  YrSold  SaleType  SaleCondition  SalePrice  \n",
       "0   2008        WD         Normal     208500  \n",
       "1   2007        WD         Normal     181500  \n",
       "2   2008        WD         Normal     223500  \n",
       "3   2006        WD        Abnorml     140000  \n",
       "4   2008        WD         Normal     250000  \n",
       "\n",
       "[5 rows x 81 columns]"
      ]
     },
     "execution_count": 4,
     "metadata": {},
     "output_type": "execute_result"
    }
   ],
   "source": [
    "data.head()"
   ]
  },
  {
   "cell_type": "code",
   "execution_count": 6,
   "id": "5944aee5-cdf8-4669-b71a-70c2ead2257e",
   "metadata": {},
   "outputs": [
    {
     "data": {
      "text/plain": [
       "(1460, 81)"
      ]
     },
     "execution_count": 6,
     "metadata": {},
     "output_type": "execute_result"
    }
   ],
   "source": [
    "data.shape"
   ]
  },
  {
   "cell_type": "markdown",
   "id": "1bf4ff78-1944-41fb-8f96-e30ebbbabf05",
   "metadata": {},
   "source": [
    "The House_Price.csv is consist of 81 columns and 1460 rows. However, we will only use 79 columns for our feature because it includes ID columns, whcih is useless and SalePrice is our output columns, which should not be included as one of the features. First of all, we will use label and one-hot encoding to convert our categorical varibles into dummy variables so that we can start the analysis. We mixed both encoding method, since we figured out that for ordinal categorical variable, the label encoding works better, and for cardinal categorical variable, one-hot encoding works better.\n",
    "\n",
    "### Feature Correlation \n",
    "\n",
    "First, we will observe the dataset, and see if we have any inter-relationship between feature that shows high correlation. We don't have to do any feature selection because first, we don't have lots of features to investigate, and second, the random forest model's accuracy doesn't get suffered from collinearity. Despite of these fact, we want to observe its inter-correlation since observing highly interacting variables might give us some hint to our question, and sometimes removing highly correlated variables help us to mitigate possible danger of overfitting. "
   ]
  },
  {
   "cell_type": "markdown",
   "id": "934400d0-81dc-48d2-bff3-7f7ad43f823d",
   "metadata": {},
   "source": [
    "This is the correlation matrix and list of features that have high inter-correlation between the other variables (more than 0.5).  "
   ]
  },
  {
   "cell_type": "markdown",
   "id": "a419b52d-96db-4eb2-b0b9-a4cfc9f2bb6d",
   "metadata": {},
   "source": [
    "![correlation_plot](figures/combined_data_heatmap.png)"
   ]
  },
  {
   "cell_type": "code",
   "execution_count": 10,
   "id": "ed522942-cc08-4c19-b7c4-fc7e0e8022a2",
   "metadata": {},
   "outputs": [
    {
     "data": {
      "text/html": [
       "<div>\n",
       "<style scoped>\n",
       "    .dataframe tbody tr th:only-of-type {\n",
       "        vertical-align: middle;\n",
       "    }\n",
       "\n",
       "    .dataframe tbody tr th {\n",
       "        vertical-align: top;\n",
       "    }\n",
       "\n",
       "    .dataframe thead th {\n",
       "        text-align: right;\n",
       "    }\n",
       "</style>\n",
       "<table border=\"1\" class=\"dataframe\">\n",
       "  <thead>\n",
       "    <tr style=\"text-align: right;\">\n",
       "      <th></th>\n",
       "      <th>Unnamed: 0</th>\n",
       "      <th>SalePrice</th>\n",
       "    </tr>\n",
       "  </thead>\n",
       "  <tbody>\n",
       "    <tr>\n",
       "      <th>0</th>\n",
       "      <td>OverallQual</td>\n",
       "      <td>0.790982</td>\n",
       "    </tr>\n",
       "    <tr>\n",
       "      <th>1</th>\n",
       "      <td>YearBuilt</td>\n",
       "      <td>0.522897</td>\n",
       "    </tr>\n",
       "    <tr>\n",
       "      <th>2</th>\n",
       "      <td>YearRemodAdd</td>\n",
       "      <td>0.507101</td>\n",
       "    </tr>\n",
       "    <tr>\n",
       "      <th>3</th>\n",
       "      <td>ExterQual</td>\n",
       "      <td>-0.636884</td>\n",
       "    </tr>\n",
       "    <tr>\n",
       "      <th>4</th>\n",
       "      <td>BsmtQual</td>\n",
       "      <td>-0.620886</td>\n",
       "    </tr>\n",
       "    <tr>\n",
       "      <th>5</th>\n",
       "      <td>TotalBsmtSF</td>\n",
       "      <td>0.613581</td>\n",
       "    </tr>\n",
       "    <tr>\n",
       "      <th>6</th>\n",
       "      <td>1stFlrSF</td>\n",
       "      <td>0.605852</td>\n",
       "    </tr>\n",
       "    <tr>\n",
       "      <th>7</th>\n",
       "      <td>GrLivArea</td>\n",
       "      <td>0.708624</td>\n",
       "    </tr>\n",
       "    <tr>\n",
       "      <th>8</th>\n",
       "      <td>FullBath</td>\n",
       "      <td>0.560664</td>\n",
       "    </tr>\n",
       "    <tr>\n",
       "      <th>9</th>\n",
       "      <td>KitchenQual</td>\n",
       "      <td>-0.589189</td>\n",
       "    </tr>\n",
       "    <tr>\n",
       "      <th>10</th>\n",
       "      <td>TotRmsAbvGrd</td>\n",
       "      <td>0.533723</td>\n",
       "    </tr>\n",
       "    <tr>\n",
       "      <th>11</th>\n",
       "      <td>GarageFinish</td>\n",
       "      <td>-0.549247</td>\n",
       "    </tr>\n",
       "    <tr>\n",
       "      <th>12</th>\n",
       "      <td>GarageCars</td>\n",
       "      <td>0.640409</td>\n",
       "    </tr>\n",
       "    <tr>\n",
       "      <th>13</th>\n",
       "      <td>GarageArea</td>\n",
       "      <td>0.623431</td>\n",
       "    </tr>\n",
       "    <tr>\n",
       "      <th>14</th>\n",
       "      <td>SalePrice</td>\n",
       "      <td>1.000000</td>\n",
       "    </tr>\n",
       "  </tbody>\n",
       "</table>\n",
       "</div>"
      ],
      "text/plain": [
       "      Unnamed: 0  SalePrice\n",
       "0    OverallQual   0.790982\n",
       "1      YearBuilt   0.522897\n",
       "2   YearRemodAdd   0.507101\n",
       "3      ExterQual  -0.636884\n",
       "4       BsmtQual  -0.620886\n",
       "5    TotalBsmtSF   0.613581\n",
       "6       1stFlrSF   0.605852\n",
       "7      GrLivArea   0.708624\n",
       "8       FullBath   0.560664\n",
       "9    KitchenQual  -0.589189\n",
       "10  TotRmsAbvGrd   0.533723\n",
       "11  GarageFinish  -0.549247\n",
       "12    GarageCars   0.640409\n",
       "13    GarageArea   0.623431\n",
       "14     SalePrice   1.000000"
      ]
     },
     "execution_count": 10,
     "metadata": {},
     "output_type": "execute_result"
    }
   ],
   "source": [
    "high_cor = pd.read_csv('data/top_cor.csv')\n",
    "high_cor"
   ]
  },
  {
   "cell_type": "markdown",
   "id": "531fd499-4d6e-4ed8-b72d-6f2b414e9263",
   "metadata": {},
   "source": [
    "This result conveys two important information regarding this dataset.\n",
    "\n",
    "1. We initially expected that many varibales will be highly inter-correlated each other (For example, if overall quality is high, then external quality and bathroom quality will be high as well), but suprisingly we have very few of them are correlated. Lots of variable have inter-correlation less than 0.5.\n",
    "\n",
    "2. It is interesting to see that some qualities are negatively correlated with other variables, while overall qualities shows the highest correlation with other variables. Only variables on quality shows some unexpected behavior than other variables.\n",
    "\n",
    "From our correlation matrix, we can conclude that we are good to use this dataset for our analysis, since we don't have too many correlating variables. \n",
    "Also, it looks like we don't have to eliminate any feature, since every variables has correlation less than 0.8."
   ]
  },
  {
   "cell_type": "markdown",
   "id": "59142c6e-9585-4b5f-b07d-26071dfe38ea",
   "metadata": {},
   "source": [
    "### Observation on SalePrice"
   ]
  },
  {
   "cell_type": "markdown",
   "id": "e047b2ec-e2b5-428d-a5ea-afa8159caa30",
   "metadata": {},
   "source": [
    "We also want to observe whether our SalePrice is normally distributed or not. In many occasion, normality of output variable doe not matter in building random forest model, but since we are more interested in finding variable importance than building a predictive model, it will be much safer if we normalize our output variables. "
   ]
  },
  {
   "cell_type": "markdown",
   "id": "5b36f5fd-c358-4fbf-84e7-d5fb00aca014",
   "metadata": {},
   "source": [
    "![density_plot](figures/SalePriceDensityPlot.png)"
   ]
  },
  {
   "cell_type": "markdown",
   "id": "898810c4-bb7a-4e94-a204-cf5a156062dd",
   "metadata": {},
   "source": [
    "![qq_plot](figures/SalePriceProbabilityPlot.png)"
   ]
  },
  {
   "cell_type": "markdown",
   "id": "06343565-0273-4ba5-91e0-249a38f744e5",
   "metadata": {},
   "source": [
    "From the density plot and and Q-Q plot (Probability Plot), we can observe that we have two issues in normality. \n",
    "\n",
    "1. Our graph is right-skewed that it might need some transformation to center this more.\n",
    "2. According to our probability plot, our graph is very not normal in right ends of the distribution.\n",
    "\n",
    "In order to resolve this issue, log-transformation should be done!"
   ]
  },
  {
   "cell_type": "markdown",
   "id": "2af8320b-dab6-42a2-8387-d36403aece6d",
   "metadata": {},
   "source": [
    "![density_plot](figures/Log_SalePriceDensityPlot.png)"
   ]
  },
  {
   "cell_type": "markdown",
   "id": "eab057e8-57cf-4e75-90a2-934cb80ebf3d",
   "metadata": {},
   "source": [
    "![qq_plot](figures/Log_SalePriceProbabilityPlot.png)"
   ]
  },
  {
   "cell_type": "markdown",
   "id": "3fb78d9a-37e1-48ab-aec0-1892a481f6ce",
   "metadata": {},
   "source": [
    "After our log transformation, we can observe that all problems that we talked about previously solved perfectly. Our graph now looks very normal with good center. We will use our transfomed ourput to fit our random forest model."
   ]
  },
  {
   "cell_type": "markdown",
   "id": "3d7e3e1e-5506-47a8-9d06-eea035060405",
   "metadata": {},
   "source": [
    "# Fitting a Random Forest Model and Variable Improtance "
   ]
  },
  {
   "cell_type": "markdown",
   "id": "28a0040a-fd46-470d-b5f9-887adb5198d7",
   "metadata": {},
   "source": [
    "In order to fit our random forest model, we are seperating our dataset into training and test dataset, so that later, we can calculate MSE to validate our model and its result regarding variable importance."
   ]
  },
  {
   "cell_type": "markdown",
   "id": "7b284b30-d6cf-4162-9a98-a2475296c889",
   "metadata": {},
   "source": [
    "    X_train, X_test, y_train, y_test = train_test_split(X, y, test_size=0.25, random_state=12)\n",
    "    rf = RandomForestRegressor(n_estimators=500)\n",
    "    rf.fit(X_train, y_train)"
   ]
  },
  {
   "cell_type": "markdown",
   "id": "05610e4d-8862-4948-b3c7-13806854f21e",
   "metadata": {},
   "source": [
    "After we fit our random forest model using the training set, we can observe which variables brought the biggest decrease in MSE when our random forest model tried to predict the result. We found top 45 variables that brought the large decrease in MSE, which means they are the most important variables in determining the sale price of the house."
   ]
  },
  {
   "cell_type": "markdown",
   "id": "f4ff4d29-7178-4f32-9b11-5a135017eb7b",
   "metadata": {},
   "source": [
    "![45_var](figures/Top_45_Combined_Encoding_Feature_Importance.png)"
   ]
  },
  {
   "cell_type": "markdown",
   "id": "a9d8656b-de98-4c10-ac3e-3aa79ce78de5",
   "metadata": {},
   "source": [
    "From this chart, we can observe that some variables are definitely more important than other variable in determining sale price of the house. However, we can also see that some variable shows very small decrease in MSE and they don't even need to be included in our chart. Therefore, we will adjust our threshold level from 0.001 to 0.01 so that we can only observe 11 important variables. "
   ]
  },
  {
   "cell_type": "code",
   "execution_count": 19,
   "id": "8a9c1ec9-87e5-4ad4-964c-6ef3f16fddc1",
   "metadata": {},
   "outputs": [
    {
     "data": {
      "text/html": [
       "<div>\n",
       "<style scoped>\n",
       "    .dataframe tbody tr th:only-of-type {\n",
       "        vertical-align: middle;\n",
       "    }\n",
       "\n",
       "    .dataframe tbody tr th {\n",
       "        vertical-align: top;\n",
       "    }\n",
       "\n",
       "    .dataframe thead th {\n",
       "        text-align: right;\n",
       "    }\n",
       "</style>\n",
       "<table border=\"1\" class=\"dataframe\">\n",
       "  <thead>\n",
       "    <tr style=\"text-align: right;\">\n",
       "      <th></th>\n",
       "      <th>Unnamed: 0</th>\n",
       "      <th>values</th>\n",
       "    </tr>\n",
       "  </thead>\n",
       "  <tbody>\n",
       "    <tr>\n",
       "      <th>0</th>\n",
       "      <td>YearBuilt</td>\n",
       "      <td>0.010081</td>\n",
       "    </tr>\n",
       "    <tr>\n",
       "      <th>1</th>\n",
       "      <td>CentralAir</td>\n",
       "      <td>0.011300</td>\n",
       "    </tr>\n",
       "    <tr>\n",
       "      <th>2</th>\n",
       "      <td>LotArea</td>\n",
       "      <td>0.011440</td>\n",
       "    </tr>\n",
       "    <tr>\n",
       "      <th>3</th>\n",
       "      <td>GarageCars</td>\n",
       "      <td>0.014981</td>\n",
       "    </tr>\n",
       "    <tr>\n",
       "      <th>4</th>\n",
       "      <td>GarageArea</td>\n",
       "      <td>0.015328</td>\n",
       "    </tr>\n",
       "    <tr>\n",
       "      <th>5</th>\n",
       "      <td>YearRemodAdd</td>\n",
       "      <td>0.016872</td>\n",
       "    </tr>\n",
       "    <tr>\n",
       "      <th>6</th>\n",
       "      <td>TotalBsmtSF</td>\n",
       "      <td>0.024395</td>\n",
       "    </tr>\n",
       "    <tr>\n",
       "      <th>7</th>\n",
       "      <td>1stFlrSF</td>\n",
       "      <td>0.026097</td>\n",
       "    </tr>\n",
       "    <tr>\n",
       "      <th>8</th>\n",
       "      <td>BsmtFinSF1</td>\n",
       "      <td>0.028458</td>\n",
       "    </tr>\n",
       "    <tr>\n",
       "      <th>9</th>\n",
       "      <td>GrLivArea</td>\n",
       "      <td>0.099252</td>\n",
       "    </tr>\n",
       "    <tr>\n",
       "      <th>10</th>\n",
       "      <td>OverallQual</td>\n",
       "      <td>0.592922</td>\n",
       "    </tr>\n",
       "  </tbody>\n",
       "</table>\n",
       "</div>"
      ],
      "text/plain": [
       "      Unnamed: 0    values\n",
       "0      YearBuilt  0.010081\n",
       "1     CentralAir  0.011300\n",
       "2        LotArea  0.011440\n",
       "3     GarageCars  0.014981\n",
       "4     GarageArea  0.015328\n",
       "5   YearRemodAdd  0.016872\n",
       "6    TotalBsmtSF  0.024395\n",
       "7       1stFlrSF  0.026097\n",
       "8     BsmtFinSF1  0.028458\n",
       "9      GrLivArea  0.099252\n",
       "10   OverallQual  0.592922"
      ]
     },
     "execution_count": 19,
     "metadata": {},
     "output_type": "execute_result"
    }
   ],
   "source": [
    "top_11_var = pd.read_csv('data/top_11_variable.csv')\n",
    "top_11_var"
   ]
  },
  {
   "cell_type": "markdown",
   "id": "4208eceb-9a39-4577-9563-0831faa9c0b3",
   "metadata": {},
   "source": [
    "![45_var](figures/Top_11_Combined_Encoding_Feature_Importance.png)"
   ]
  },
  {
   "cell_type": "markdown",
   "id": "3df21c8e-349b-472f-8941-c1548439dd26",
   "metadata": {},
   "source": [
    "From this chart, we can observe that the top 5 most important variables in determining Sales Price of House are \n",
    "\n",
    "1. OverallQual - Overall material and finish quality\n",
    "2. GrLivArea - Above grade (ground) living area square feet\n",
    "3. BsmFinSF1 - Type 1 finished square feet\n",
    "4. 1stFlrSF - First Floor square feet\n",
    "5. TotalBsmtSF - Total square feet of basement area\n",
    "\n",
    "This is somewhat very obvious result that two most important quality in determining house price are quality and size of the house. It shows that living room, first floor and basement are the three most important rooms of the house in determining the house price. Interestingly, year bulit and whether the house has air condition or not was very important features in determing the house price."
   ]
  },
  {
   "cell_type": "code",
   "execution_count": 22,
   "id": "b5a0e326-9f7c-43a5-94ff-329a87e04958",
   "metadata": {},
   "outputs": [
    {
     "data": {
      "text/html": [
       "<div>\n",
       "<style scoped>\n",
       "    .dataframe tbody tr th:only-of-type {\n",
       "        vertical-align: middle;\n",
       "    }\n",
       "\n",
       "    .dataframe tbody tr th {\n",
       "        vertical-align: top;\n",
       "    }\n",
       "\n",
       "    .dataframe thead th {\n",
       "        text-align: right;\n",
       "    }\n",
       "</style>\n",
       "<table border=\"1\" class=\"dataframe\">\n",
       "  <thead>\n",
       "    <tr style=\"text-align: right;\">\n",
       "      <th></th>\n",
       "      <th>Type of Error</th>\n",
       "      <th>Value</th>\n",
       "    </tr>\n",
       "  </thead>\n",
       "  <tbody>\n",
       "    <tr>\n",
       "      <th>0</th>\n",
       "      <td>MSE</td>\n",
       "      <td>0.022994</td>\n",
       "    </tr>\n",
       "    <tr>\n",
       "      <th>1</th>\n",
       "      <td>RMSE</td>\n",
       "      <td>0.151639</td>\n",
       "    </tr>\n",
       "    <tr>\n",
       "      <th>2</th>\n",
       "      <td>Adj R^2 Value</td>\n",
       "      <td>0.867835</td>\n",
       "    </tr>\n",
       "  </tbody>\n",
       "</table>\n",
       "</div>"
      ],
      "text/plain": [
       "   Type of Error     Value\n",
       "0            MSE  0.022994\n",
       "1           RMSE  0.151639\n",
       "2  Adj R^2 Value  0.867835"
      ]
     },
     "execution_count": 22,
     "metadata": {},
     "output_type": "execute_result"
    }
   ],
   "source": [
    "error = pd.read_csv('data/Combined_Error_Table.csv')\n",
    "error"
   ]
  },
  {
   "cell_type": "markdown",
   "id": "774f639d-fcbf-466c-a2cd-8468e118bd54",
   "metadata": {},
   "source": [
    "If we examine error of our model, we can see that our model was pretty good model in predicting the house price, so our variable importance plot will be most likely to be accurate as well. "
   ]
  },
  {
   "cell_type": "markdown",
   "id": "6a5cf061-f892-411b-8bc1-775def91f4f0",
   "metadata": {},
   "source": [
    "## Author Contributions:\n",
    "\n",
    "Isaac: Initial Code with Random Forest Analysis. Writing scripts for main.ipynb. Made Jupyterbook/guthub site as well as github action\n",
    "\n",
    "Brandon:\n",
    "\n",
    "Raj: "
   ]
  },
  {
   "cell_type": "code",
   "execution_count": null,
   "id": "80cb364e-aacb-4a6b-a6b4-378a00cc36a7",
   "metadata": {},
   "outputs": [],
   "source": []
  },
  {
   "cell_type": "code",
   "execution_count": null,
   "id": "bca62a38-b998-4807-a96e-5b427ca32148",
   "metadata": {},
   "outputs": [],
   "source": []
  },
  {
   "cell_type": "code",
   "execution_count": null,
   "id": "be9cbed4-3144-4918-9954-eb845fbec3d3",
   "metadata": {},
   "outputs": [],
   "source": []
  }
 ],
 "metadata": {
  "kernelspec": {
   "display_name": "Python 3 (ipykernel)",
   "language": "python",
   "name": "python3"
  },
  "language_info": {
   "codemirror_mode": {
    "name": "ipython",
    "version": 3
   },
   "file_extension": ".py",
   "mimetype": "text/x-python",
   "name": "python",
   "nbconvert_exporter": "python",
   "pygments_lexer": "ipython3",
   "version": "3.9.9"
  }
 },
 "nbformat": 4,
 "nbformat_minor": 5
}
